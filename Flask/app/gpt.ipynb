{
 "metadata": {
  "language_info": {
   "codemirror_mode": {
    "name": "ipython",
    "version": 3
   },
   "file_extension": ".py",
   "mimetype": "text/x-python",
   "name": "python",
   "nbconvert_exporter": "python",
   "pygments_lexer": "ipython3",
   "version": 3
  },
  "orig_nbformat": 2
 },
 "nbformat": 4,
 "nbformat_minor": 2,
 "cells": [
  {
   "cell_type": "code",
   "execution_count": null,
   "metadata": {},
   "outputs": [],
   "source": [
    "import pandas as pd\n",
    "import seaborn\n",
    "from flask import request\n",
    "from flask import Flask \n",
    "from flask import request "
   ]
  },
  {
   "cell_type": "code",
   "execution_count": null,
   "metadata": {},
   "outputs": [],
   "source": [
    "sex = input(\"Enter your date's sex \")\n",
    "hair =  input(\"Enter your date's hair color \")\n",
    "height= input(\"Enter your date's height \")\n",
    "score = input(\"Would you like to Score with your Date tonight\")\n",
    "birth = input(\"Enter your date's birth sign \")"
   ]
  },
  {
   "cell_type": "code",
   "execution_count": null,
   "metadata": {},
   "outputs": [],
   "source": [
    "#@app.route('/Date_input', methods=['POST', 'GET']) \n",
    "#def Date() \n",
    "\t#if request.method == 'POST': \n",
    "\t\t#sex_var = request.form['sex'] \n",
    "\t\t#hair_var = request.form['hair'] \n",
    "        #height_var = request.form['height']\n",
    "        #score_var = request.form['score'] \n",
    "\t\t#birth_var = request.form['birth'] \n",
    "        \t\t \n",
    "\t#else: \n",
    "\t#return print(\"Error\")"
   ]
  },
  {
   "cell_type": "code",
   "execution_count": null,
   "metadata": {},
   "outputs": [],
   "source": [
    "if score = yes :\n",
    "    score_var = \"want to have sex with\"\n",
    "else\n",
    "    score_var = \"do not want to have sex with\""
   ]
  },
  {
   "cell_type": "code",
   "execution_count": null,
   "metadata": {},
   "outputs": [],
   "source": [
    "ml_string = f\"I am on a date with a {sex} who has {hair} hair and is {height}.  I definitly {score_var} them.  My date is also a {birth}\""
   ]
  },
  {
   "cell_type": "code",
   "execution_count": null,
   "metadata": {},
   "outputs": [],
   "source": []
  }
 ]
}